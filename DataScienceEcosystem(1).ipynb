{
 "cells": [
  {
   "cell_type": "markdown",
   "id": "db89f633",
   "metadata": {},
   "source": [
    "# Data Science Tools and Ecosystem"
   ]
  },
  {
   "cell_type": "markdown",
   "id": "45e7c1dd",
   "metadata": {},
   "source": [
    "# In this notebook, Data Science Tools and Ecosystem are summarized."
   ]
  },
  {
   "cell_type": "markdown",
   "id": "7d9fe455",
   "metadata": {},
   "source": [
    "# Objectives\n",
    "* Create a list of popular data science language \n",
    "* List some of the commonly used data science\n",
    "* List data science tools used in python\n",
    "* Understand basic arithmetic evalauation in python\n",
    "* Create a basic python code"
   ]
  },
  {
   "cell_type": "markdown",
   "id": "556e9ea5",
   "metadata": {},
   "source": [
    "# Some of the popular languages that Data Scientists use are:\n",
    "## Python\n",
    "## R\n",
    "## Java"
   ]
  },
  {
   "cell_type": "markdown",
   "id": "82bf4e00",
   "metadata": {},
   "source": [
    "# some of the commonly used libraries by data scientist include:\n",
    "## Pandas\n",
    "## Numpy\n",
    "## Matplotlib\n",
    "## Scikit-learn\n",
    "## Scipy"
   ]
  },
  {
   "cell_type": "markdown",
   "id": "37687574",
   "metadata": {},
   "source": [
    "|Data science tools|\n",
    "|:----------------:|\n",
    "|RStudio|\n",
    "|Jupyter notebook|\n",
    "|Jupyter lab|\n",
    "|spyder|"
   ]
  },
  {
   "cell_type": "code",
   "execution_count": null,
   "id": "da9a7c2b",
   "metadata": {},
   "outputs": [],
   "source": []
  },
  {
   "cell_type": "markdown",
   "id": "7bc81ce8",
   "metadata": {},
   "source": [
    "|Data science tools|\n",
    "|:----------------:|\n",
    "|RStudio|\n",
    "|Jupyter notebook|\n",
    "|Jupyter lab|\n",
    "|spyder|"
   ]
  },
  {
   "cell_type": "markdown",
   "id": "5fdb77c3",
   "metadata": {},
   "source": [
    "### Below are a few examples of evaluating arithmetic expressions in python"
   ]
  },
  {
   "cell_type": "code",
   "execution_count": 3,
   "id": "c894c843",
   "metadata": {},
   "outputs": [
    {
     "data": {
      "text/plain": [
       "11"
      ]
     },
     "execution_count": 3,
     "metadata": {},
     "output_type": "execute_result"
    }
   ],
   "source": [
    "\n",
    "3+4*2"
   ]
  },
  {
   "cell_type": "code",
   "execution_count": 4,
   "id": "e70b3541",
   "metadata": {},
   "outputs": [
    {
     "data": {
      "text/plain": [
       "8.8"
      ]
     },
     "execution_count": 4,
     "metadata": {},
     "output_type": "execute_result"
    }
   ],
   "source": [
    "10-3*2/5"
   ]
  },
  {
   "cell_type": "code",
   "execution_count": 5,
   "id": "66426602",
   "metadata": {},
   "outputs": [
    {
     "data": {
      "text/plain": [
       "2"
      ]
     },
     "execution_count": 5,
     "metadata": {},
     "output_type": "execute_result"
    }
   ],
   "source": [
    "10%4\n"
   ]
  },
  {
   "cell_type": "code",
   "execution_count": 1,
   "id": "b88855a3",
   "metadata": {},
   "outputs": [
    {
     "data": {
      "text/plain": [
       "17"
      ]
     },
     "execution_count": 1,
     "metadata": {},
     "output_type": "execute_result"
    }
   ],
   "source": [
    "#This a simple arithmetic expression to mutiply then add integers\n",
    "(3*4)+5"
   ]
  },
  {
   "cell_type": "code",
   "execution_count": 2,
   "id": "eda26f77",
   "metadata": {},
   "outputs": [
    {
     "name": "stdout",
     "output_type": "stream",
     "text": [
      "Enter time in minutes\n"
     ]
    },
    {
     "ename": "ValueError",
     "evalue": "invalid literal for int() with base 10: ''",
     "output_type": "error",
     "traceback": [
      "\u001b[1;31m---------------------------------------------------------------------------\u001b[0m",
      "\u001b[1;31mValueError\u001b[0m                                Traceback (most recent call last)",
      "Cell \u001b[1;32mIn[2], line 1\u001b[0m\n\u001b[1;32m----> 1\u001b[0m \u001b[38;5;28mmin\u001b[39m\u001b[38;5;241m=\u001b[39m\u001b[38;5;28;43mint\u001b[39;49m\u001b[43m(\u001b[49m\u001b[38;5;28;43minput\u001b[39;49m\u001b[43m(\u001b[49m\u001b[38;5;124;43m\"\u001b[39;49m\u001b[38;5;124;43mEnter time in minutes\u001b[39;49m\u001b[38;5;124;43m\"\u001b[39;49m\u001b[43m)\u001b[49m\u001b[43m)\u001b[49m\n\u001b[0;32m      2\u001b[0m H\u001b[38;5;241m=\u001b[39m\u001b[38;5;28mmin\u001b[39m\u001b[38;5;241m/\u001b[39m\u001b[38;5;241m/\u001b[39m\u001b[38;5;241m60\u001b[39m  \u001b[38;5;66;03m#This will convert 200 minutes to hours by diving by 60\u001b[39;00m\n\u001b[0;32m      3\u001b[0m M\u001b[38;5;241m=\u001b[39m\u001b[38;5;28mmin\u001b[39m\u001b[38;5;241m%\u001b[39m\u001b[38;5;241m60\u001b[39m\n",
      "\u001b[1;31mValueError\u001b[0m: invalid literal for int() with base 10: ''"
     ]
    }
   ],
   "source": [
    "min=int(input(\"Enter time in minutes\"))\n",
    "H=min//60  #This will convert 200 minutes to hours by diving by 60\n",
    "M=min%60\n",
    "print(\"Hours\",H)\n",
    "print(\"Minutes\",M)\n"
   ]
  },
  {
   "cell_type": "code",
   "execution_count": 1,
   "id": "715e4085",
   "metadata": {},
   "outputs": [
    {
     "name": "stdout",
     "output_type": "stream",
     "text": [
      "Enter time in minutes200\n",
      "Hours 3\n",
      "Minutes 20\n"
     ]
    }
   ],
   "source": [
    "min=int(input(\"Enter time in minutes\"))\n",
    "H=min//60 #This will convert 200 minutes to hours by diving by 60\n",
    "M=min%60\n",
    "print(\"Hours\",H)\n",
    "print(\"Minutes\",M)\n"
   ]
  },
  {
   "cell_type": "markdown",
   "id": "5d512979",
   "metadata": {},
   "source": [
    "# Author\n",
    "Erick Omondi Adem\n"
   ]
  },
  {
   "cell_type": "code",
   "execution_count": null,
   "id": "49f65356",
   "metadata": {},
   "outputs": [],
   "source": []
  }
 ],
 "metadata": {
  "kernelspec": {
   "display_name": "Python 3 (ipykernel)",
   "language": "python",
   "name": "python3"
  },
  "language_info": {
   "codemirror_mode": {
    "name": "ipython",
    "version": 3
   },
   "file_extension": ".py",
   "mimetype": "text/x-python",
   "name": "python",
   "nbconvert_exporter": "python",
   "pygments_lexer": "ipython3",
   "version": "3.10.9"
  }
 },
 "nbformat": 4,
 "nbformat_minor": 5
}
